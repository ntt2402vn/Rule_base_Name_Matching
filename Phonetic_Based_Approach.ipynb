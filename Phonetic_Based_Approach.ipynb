{
 "cells": [
  {
   "cell_type": "markdown",
   "id": "3c4efa1e",
   "metadata": {},
   "source": [
    "# Typos Dataset"
   ]
  },
  {
   "cell_type": "code",
   "execution_count": null,
   "id": "ce14dfed",
   "metadata": {},
   "outputs": [],
   "source": [
    "import pandas as pd \n",
    "import re\n",
    "\n",
    "df = pd.read_csv('typos_dataset.csv')\n",
    "\n",
    "# Remove special characters\n",
    "def remove_special_chars(text):\n",
    "    return re.sub(r'[^\\w\\s.]', '', text)\n",
    "\n",
    "df['fullname'] = df['fullname'].apply(lambda x: remove_special_chars(x))\n",
    "df['fullname'] = df['fullname'].apply(lambda x: x.lower())\n",
    "df['firstname'] = df['firstname'].apply(lambda x: x.lower() if not pd.isna(x) else x)\n",
    "df['firstname'] = df['firstname'].str.replace('.', '', regex=False)\n",
    "df['firstname'] = df['firstname'].apply(lambda x: remove_special_chars(x))\n",
    "df['lastname'] = df['lastname'].apply(lambda x: x.lower() if not pd.isna(x) else x)\n",
    "df['lastname'] = df['lastname'].str.replace('.', '', regex=False)\n",
    "df['lastname'] = df['lastname'].apply(lambda x: remove_special_chars(x))"
   ]
  },
  {
   "cell_type": "markdown",
   "id": "ba49e28d",
   "metadata": {},
   "source": [
    "# Phonetic Dataset"
   ]
  },
  {
   "cell_type": "code",
   "execution_count": null,
   "id": "d055841e",
   "metadata": {},
   "outputs": [],
   "source": [
    "import pandas as pd \n",
    "\n",
    "df = pd.read_csv('phonetic_name_matching_dataset.csv')"
   ]
  },
  {
   "cell_type": "markdown",
   "id": "7b257e08",
   "metadata": {},
   "source": [
    "# Double Metaphone"
   ]
  },
  {
   "cell_type": "code",
   "execution_count": null,
   "id": "45791a91",
   "metadata": {},
   "outputs": [],
   "source": [
    "from metaphone import doublemetaphone\n",
    "\n",
    "df[\"phonetic_code_1\"] = df[\"fullname\"].apply(\n",
    "    lambda x: doublemetaphone(str(x))[0]\n",
    ")\n",
    "df[\"phonetic_code_2\"] = df[\"fullname\"].apply(\n",
    "    lambda x: doublemetaphone(str(x))[1]\n",
    ")\n",
    "\n",
    "# Combine primary and secondary phonetic codes for clustering\n",
    "df[\"phonetic_code\"] = df[[\"phonetic_code_1\", \"phonetic_code_2\"]].apply(\n",
    "    lambda x: \"\".join(filter(None, x)), axis=1\n",
    ")\n",
    "unique_phonetic_codes = df[\"phonetic_code\"].unique()\n",
    "phonetic_code_to_num = {code: idx for idx, code in enumerate(unique_phonetic_codes)}\n",
    "df[\"Cluster_graph\"] = df[\"phonetic_code\"].map(phonetic_code_to_num)"
   ]
  },
  {
   "cell_type": "markdown",
   "id": "9fc73bbe",
   "metadata": {},
   "source": [
    "# Evaluation"
   ]
  },
  {
   "cell_type": "code",
   "execution_count": null,
   "id": "bc5352dd",
   "metadata": {},
   "outputs": [],
   "source": [
    "from sklearn.metrics import precision_score, recall_score, f1_score, accuracy_score\n",
    "\n",
    "def get_cluster_evaluation(df):\n",
    "    y_pred = []\n",
    "    y_truth = []\n",
    "    groups = df['Cluster_graph'].values\n",
    "    ids = df['ID'].values\n",
    "    for i in range(len(df)):\n",
    "        for k in range(len(df)):\n",
    "            if i != k:\n",
    "                if groups[i] == groups[k]:\n",
    "                    y_pred.append(1)\n",
    "                else:\n",
    "                    y_pred.append(0)\n",
    "            if i != k:\n",
    "                if ids[i] == ids[k]:\n",
    "                    y_truth.append(1)\n",
    "                else:\n",
    "                    y_truth.append(0)\n",
    "    return y_pred,y_truth\n",
    "\n",
    "y_pred,y_truth = get_cluster_evaluation(df)\n",
    "\n",
    "precision = precision_score(y_truth, y_pred)\n",
    "recall    = recall_score(y_truth, y_pred)\n",
    "f1        = f1_score(y_truth, y_pred)\n",
    "accuracy  = accuracy_score(y_truth, y_pred)\n",
    "\n",
    "print(f\"Precision: {precision:.2f}\")\n",
    "print(f\"Recall   : {recall:.2f}\")\n",
    "print(f\"F1 Score : {f1:.2f}\")\n",
    "print(f\"Accuracy : {accuracy:.2f}\")"
   ]
  }
 ],
 "metadata": {
  "language_info": {
   "name": "python"
  }
 },
 "nbformat": 4,
 "nbformat_minor": 5
}
