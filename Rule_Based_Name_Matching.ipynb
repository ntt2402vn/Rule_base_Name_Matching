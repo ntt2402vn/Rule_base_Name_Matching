{
 "cells": [
  {
   "cell_type": "markdown",
   "id": "b8a96771",
   "metadata": {},
   "source": [
    "# Rule-based Name Matching Algorithm"
   ]
  },
  {
   "cell_type": "code",
   "execution_count": null,
   "id": "2ef41022",
   "metadata": {},
   "outputs": [],
   "source": [
    "from rapidfuzz import fuzz\n",
    "\n",
    "y_pred = [] # for pairwise evaluation\n",
    "y_truth = [] # ground-truth\n",
    "false_positive = []\n",
    "miss_match = []\n",
    "\n",
    "def check_first_letters(str1, str2):\n",
    "    def get_first_letters(s):\n",
    "        return sorted([word[0].lower() for word in s.split() if word])\n",
    "\n",
    "    first_letters1 = get_first_letters(str1)\n",
    "    first_letters2 = get_first_letters(str2)\n",
    "    \n",
    "    set1 = set(first_letters1)\n",
    "    set2 = set(first_letters2)\n",
    "\n",
    "    # Return True if they are equal or if one is a subset of the other\n",
    "    return set1 == set2 \n",
    "\n",
    "def check_belong(f1,f2,l1,l2,n1,n2):\n",
    "    belong = False\n",
    "    if fuzz.token_ratio(n1,n2) >= 95 or fuzz.partial_ratio(n1,n2) >= 100:\n",
    "        belong = True\n",
    "    else:\n",
    "        if (fuzz.token_ratio(f1,f2) >= 95 or fuzz.partial_ratio(f1,f2) >= 95)  and (fuzz.token_ratio(l1,l2) >= 95 or fuzz.partial_ratio(l1,l2)>= 95):\n",
    "            belong = True\n",
    "    return belong\n",
    "\n",
    "def compare_first_last(f1,f2,l1,l2,n1,n2):\n",
    "    if fuzz.ratio(n1,n2) >= 60 or fuzz.token_set_ratio(n1,n2) >= 70:\n",
    "        if fuzz.ratio(l1, l2) >= 70 or fuzz.token_set_ratio(l1, l2) >= 70 or fuzz.partial_ratio(l1, l2) >= 81:\n",
    "            if fuzz.ratio(f1, f2) >= 70 or fuzz.token_set_ratio(f1, f2) >= 70 or fuzz.partial_ratio(f1, f2) >= 81:\n",
    "                return True\n",
    "    return False\n",
    "\n",
    "def rule_base_name_matching(df, token_ratio, ratio, partial_ratio):\n",
    "    group = [[] for _ in range(len(df))]\n",
    "    belong = [0 for _ in range(len(df))]\n",
    "\n",
    "    names = df['fullname'].values\n",
    "    firstnames = df['firstname'].values\n",
    "    lastnames = df['lastname'].values\n",
    "    indexes = df['Index'].values\n",
    "    ids = df['ID'].values\n",
    "\n",
    "    for i in range(len(df)):\n",
    "        for k in range(len(df)):\n",
    "            Match = False\n",
    "            if i != k:\n",
    "                Match = False\n",
    "                if ids[i] == ids[k]:\n",
    "                    y_truth.append(1)\n",
    "                else:\n",
    "                    y_truth.append(0)\n",
    "\n",
    "                if belong[i] != 1 and belong[k] != 1:\n",
    "                    if not (\".\" in names[i] and \".\" in names[k]): \n",
    "                        if fuzz.ratio(names[i],names[k]) >= ratio:\n",
    "                            if fuzz.token_set_ratio(names[i],names[k]) <= token_ratio:\n",
    "                                if compare_first_last(firstnames[i],firstnames[k],lastnames[i],lastnames[k],names[i],names[k]):\n",
    "                                    Match = True \n",
    "                            else:\n",
    "                                Match = True\n",
    "                        else:\n",
    "                            if fuzz.token_set_ratio(names[i],names[k]) >= token_ratio or fuzz.partial_ratio(names[i],names[k]) >= partial_ratio:\n",
    "                                Match = True\n",
    "                            elif check_first_letters(names[i],names[k]):\n",
    "                                if compare_first_last(firstnames[i],firstnames[k],lastnames[i],lastnames[k],names[i],names[k]):\n",
    "                                    Match = True\n",
    "                                    \n",
    "                    else:\n",
    "                        if fuzz.ratio(names[i],names[k]) >= 95 or fuzz.token_set_ratio(names[i],names[k]) >= 95 or fuzz.partial_ratio(names[i],names[k]) >= 97:\n",
    "                            Match = True\n",
    "            \n",
    "                if Match:\n",
    "                    y_pred.append(1)\n",
    "                    group[i].append(indexes[k]) \n",
    "                    if check_belong(firstnames[i],firstnames[k],lastnames[i],lastnames[k],names[i],names[k]):\n",
    "                        if len(names[i]) < len(names[k]):\n",
    "                            belong[i] = 1\n",
    "                        else:\n",
    "                            belong[k] = 1\n",
    "                else:\n",
    "                    y_pred.append(0)\n",
    "    df['GROUP'] = group\n",
    "    return df\n"
   ]
  },
  {
   "cell_type": "markdown",
   "id": "2c1e1245",
   "metadata": {},
   "source": [
    "# Graph-base Clustering Algorithm"
   ]
  },
  {
   "cell_type": "code",
   "execution_count": null,
   "id": "61407796",
   "metadata": {},
   "outputs": [],
   "source": [
    "from collections import defaultdict\n",
    "\n",
    "def cluster_by_DFS(df2):\n",
    "    graph = defaultdict(set)\n",
    "    for index, row in df2.iterrows():\n",
    "        person_id = row[\"Index\"]\n",
    "        groups = row[\"GROUP\"]\n",
    "        for group in groups:\n",
    "            graph[person_id].add(group)\n",
    "            graph[group].add(person_id)\n",
    "\n",
    "    # Function to perform DFS and find all nodes in the same connected component\n",
    "    def dfs(node, visited, component):\n",
    "        stack = [node]\n",
    "        while stack:\n",
    "            current = stack.pop()\n",
    "            if current not in visited:\n",
    "                visited.add(current)\n",
    "                component.append(current)\n",
    "                stack.extend(graph[current] - visited)\n",
    "\n",
    "    # Find all connected components\n",
    "    visited = set()\n",
    "    clusters = []\n",
    "    for node in graph:\n",
    "        if node not in visited:\n",
    "            component = []\n",
    "            dfs(node, visited, component)\n",
    "            clusters.append(component)\n",
    "\n",
    "    def get_cluster_label(node, clusters):\n",
    "        for i, cluster in enumerate(clusters):\n",
    "            if node in cluster:\n",
    "                return i\n",
    "        return None\n",
    "\n",
    "    df2[\"Cluster_graph\"] = df2[\"Index\"].apply(\n",
    "        lambda x: get_cluster_label(x, clusters)\n",
    "    )\n",
    "\n",
    "    return df2\n"
   ]
  },
  {
   "cell_type": "markdown",
   "id": "bce3b4ff",
   "metadata": {},
   "source": [
    "# Typos Dataset"
   ]
  },
  {
   "cell_type": "code",
   "execution_count": null,
   "id": "1237f9e7",
   "metadata": {},
   "outputs": [],
   "source": [
    "import re\n",
    "import pandas as pd \n",
    "\n",
    "df = pd.read_csv('typos_dataset.csv')\n",
    "\n",
    "# Remove special characters\n",
    "def remove_special_chars(text):\n",
    "    return re.sub(r'[^\\w\\s.]', '', text)\n",
    "\n",
    "df['fullname'] = df['fullname'].apply(lambda x: remove_special_chars(x))\n",
    "df['fullname'] = df['fullname'].apply(lambda x: x.lower())\n",
    "df['firstname'] = df['firstname'].apply(lambda x: x.lower() if not pd.isna(x) else x)\n",
    "df['firstname'] = df['firstname'].str.replace('.', '', regex=False)\n",
    "df['firstname'] = df['firstname'].apply(lambda x: remove_special_chars(x))\n",
    "df['lastname'] = df['lastname'].apply(lambda x: x.lower() if not pd.isna(x) else x)\n",
    "df['lastname'] = df['lastname'].str.replace('.', '', regex=False)\n",
    "df['lastname'] = df['lastname'].apply(lambda x: remove_special_chars(x))\n",
    "\n",
    "df"
   ]
  },
  {
   "cell_type": "code",
   "execution_count": null,
   "id": "f24cfe66",
   "metadata": {},
   "outputs": [],
   "source": [
    "token_ratio = 86.3\n",
    "ratio = 82\n",
    "partial_ratio = 97\n",
    "\n",
    "df_group_name = rule_base_name_matching(df,token_ratio,ratio,partial_ratio)\n",
    "df_cluster = cluster_by_DFS(df_group_name)"
   ]
  },
  {
   "cell_type": "markdown",
   "id": "bcbda406",
   "metadata": {},
   "source": [
    "### Pair-wise evaluation result"
   ]
  },
  {
   "cell_type": "code",
   "execution_count": null,
   "id": "158062ec",
   "metadata": {},
   "outputs": [],
   "source": [
    "from sklearn.metrics import precision_score, recall_score, f1_score, accuracy_score\n",
    "                \n",
    "precision = precision_score(y_truth, y_pred)\n",
    "recall    = recall_score(y_truth, y_pred)\n",
    "f1        = f1_score(y_truth, y_pred)\n",
    "accuracy  = accuracy_score(y_truth, y_pred)\n",
    "\n",
    "print(f\"Precision: {precision:.2f}\")\n",
    "print(f\"Recall   : {recall:.2f}\")\n",
    "print(f\"F1 Score : {f1:.2f}\")\n",
    "print(f\"Accuracy : {accuracy:.2f}\")"
   ]
  },
  {
   "cell_type": "markdown",
   "id": "78eede78",
   "metadata": {},
   "source": [
    "### Cluster-level evaluation result"
   ]
  },
  {
   "cell_type": "code",
   "execution_count": null,
   "id": "229caa6f",
   "metadata": {},
   "outputs": [],
   "source": [
    "from sklearn.metrics import precision_score, recall_score, f1_score, accuracy_score\n",
    "\n",
    "def get_cluster_evaluation(df):\n",
    "    y_pred = []\n",
    "    groups = df['Cluster_graph'].values\n",
    "    for i in range(len(df)):\n",
    "        for k in range(len(df)):\n",
    "            if i != k:\n",
    "                if groups[i] == groups[k]:\n",
    "                    y_pred.append(1)\n",
    "                else:\n",
    "                    y_pred.append(0)\n",
    "    return y_pred\n",
    "\n",
    "y_pred = get_cluster_evaluation(df_cluster)\n",
    "\n",
    "precision = precision_score(y_truth, y_pred)\n",
    "recall    = recall_score(y_truth, y_pred)\n",
    "f1        = f1_score(y_truth, y_pred)\n",
    "accuracy  = accuracy_score(y_truth, y_pred)\n",
    "\n",
    "print(f\"Precision: {precision:.2f}\")\n",
    "print(f\"Recall   : {recall:.2f}\")\n",
    "print(f\"F1 Score : {f1:.2f}\")\n",
    "print(f\"Accuracy : {accuracy:.2f}\")"
   ]
  },
  {
   "cell_type": "markdown",
   "id": "ec00fbb3",
   "metadata": {},
   "source": [
    "# Phonetic Dataset"
   ]
  },
  {
   "cell_type": "code",
   "execution_count": null,
   "id": "080d2251",
   "metadata": {},
   "outputs": [],
   "source": [
    "import pandas as pd \n",
    "\n",
    "df = pd.read_csv('phonetic_name_matching_dataset.csv')\n",
    "df['Index'] = df.index"
   ]
  },
  {
   "cell_type": "code",
   "execution_count": null,
   "id": "ca30b118",
   "metadata": {},
   "outputs": [],
   "source": [
    "token_ratio = 92\n",
    "ratio = 92\n",
    "partial_ratio = 97\n",
    "\n",
    "# Readjust the threshold for first and last names\n",
    "def compare_first_last(f1,f2,l1,l2,n1,n2):\n",
    "    if fuzz.ratio(n1,n2) >= 60 or fuzz.token_set_ratio(n1,n2) >= 65:\n",
    "        if fuzz.ratio(l1, l2) >= 60 or fuzz.token_set_ratio(l1, l2) >= 60 or fuzz.partial_ratio(l1, l2) >= 81:\n",
    "            if fuzz.ratio(f1, f2) >= 60 or fuzz.token_set_ratio(f1, f2) >= 60 or fuzz.partial_ratio(f1, f2) >= 81:\n",
    "                return True\n",
    "    return False\n",
    "\n",
    "df_group_name = rule_base_name_matching(df,token_ratio,ratio,partial_ratio)\n",
    "df_cluster = cluster_by_DFS(df_group_name)"
   ]
  },
  {
   "cell_type": "markdown",
   "id": "e9a49d22",
   "metadata": {},
   "source": [
    "### Pair-wise evaluation result"
   ]
  },
  {
   "cell_type": "code",
   "execution_count": null,
   "id": "1784094e",
   "metadata": {},
   "outputs": [],
   "source": [
    "from sklearn.metrics import precision_score, recall_score, f1_score, accuracy_score\n",
    "                \n",
    "precision = precision_score(y_truth, y_pred)\n",
    "recall    = recall_score(y_truth, y_pred)\n",
    "f1        = f1_score(y_truth, y_pred)\n",
    "accuracy  = accuracy_score(y_truth, y_pred)\n",
    "\n",
    "print(f\"Precision: {precision:.2f}\")\n",
    "print(f\"Recall   : {recall:.2f}\")\n",
    "print(f\"F1 Score : {f1:.2f}\")\n",
    "print(f\"Accuracy : {accuracy:.2f}\")"
   ]
  },
  {
   "cell_type": "markdown",
   "id": "ee88727e",
   "metadata": {},
   "source": [
    "### Cluster-level evaluation result"
   ]
  },
  {
   "cell_type": "code",
   "execution_count": null,
   "id": "c37765be",
   "metadata": {},
   "outputs": [],
   "source": [
    "from sklearn.metrics import precision_score, recall_score, f1_score, accuracy_score\n",
    "\n",
    "def get_cluster_evaluation(df):\n",
    "    y_pred = []\n",
    "    groups = df['Cluster_graph'].values\n",
    "    for i in range(len(df)):\n",
    "        for k in range(len(df)):\n",
    "            if i != k:\n",
    "                if groups[i] == groups[k]:\n",
    "                    y_pred.append(1)\n",
    "                else:\n",
    "                    y_pred.append(0)\n",
    "    return y_pred\n",
    "\n",
    "y_pred = get_cluster_evaluation(df_cluster)\n",
    "\n",
    "precision = precision_score(y_truth, y_pred)\n",
    "recall    = recall_score(y_truth, y_pred)\n",
    "f1        = f1_score(y_truth, y_pred)\n",
    "accuracy  = accuracy_score(y_truth, y_pred)\n",
    "\n",
    "print(f\"Precision: {precision:.2f}\")\n",
    "print(f\"Recall   : {recall:.2f}\")\n",
    "print(f\"F1 Score : {f1:.2f}\")\n",
    "print(f\"Accuracy : {accuracy:.2f}\")"
   ]
  }
 ],
 "metadata": {
  "language_info": {
   "name": "python"
  }
 },
 "nbformat": 4,
 "nbformat_minor": 5
}
